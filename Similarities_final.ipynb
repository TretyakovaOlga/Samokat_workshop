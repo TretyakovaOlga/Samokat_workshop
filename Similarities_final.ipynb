{
 "cells": [
  {
   "cell_type": "markdown",
   "id": "e64e2fff",
   "metadata": {},
   "source": [
    "# Векторный поиск в задаче матчинга"
   ]
  },
  {
   "cell_type": "markdown",
   "id": "20e29119",
   "metadata": {},
   "source": [
    "Воркшоп Samokat.tech и Яндекс.Практикума 17.05-24.05.2023"
   ]
  },
  {
   "cell_type": "markdown",
   "id": "46dd0c98",
   "metadata": {},
   "source": [
    "Векторный поиск - одна из составляющих задачи матчинга, в которой для каждого нового продукта нужно наиболее точно найти N максимально похожих товаров из имеющейся базы. </br>\n",
    "</br>\n",
    "В данном воркшопе решалась задача сопоставления уже готовых векторов и максимизации метрики recall@10. </br>\n",
    "Работа проходила в виде соревнования на платформе Kaggle с поддержкой специалистов из Яндекс.Практикума и Samokat.tech.</br>\n",
    "[ссылка на соревнование](https://www.kaggle.com/competitions/samokattechworkshop/overview)"
   ]
  },
  {
   "cell_type": "markdown",
   "id": "9f29238f",
   "metadata": {},
   "source": [
    "**Про матчинг**</br>\n",
    "Конечная цель матчинга заключается в определении, являются ли два или более предмета эквивалентными или одним и тем же объектом.</br>\n",
    "В контексте задачи матчинга в базе данных (base) хранится информация о продуктах, которые могут быть предложены для покупки. </br>\n",
    "Запрос (query) представляет из себя набор конкретных продуктов, для которых необходимо найти соответствие в базе данных.</br>\n",
    "\n",
    "Задача состоит в том, чтобы автоматически сопоставить запрос с подходящим элементом из базы данных и предоставить пользователю наиболее релевантный результат. Это позволяет снизить дублирование товаров и упростить процесс управления продуктами, что способствует увеличению эффективности и экономии времени."
   ]
  },
  {
   "cell_type": "markdown",
   "id": "61c50c28",
   "metadata": {},
   "source": [
    "**РЕШЕНИЕ**"
   ]
  },
  {
   "cell_type": "markdown",
   "id": "e509c761",
   "metadata": {},
   "source": [
    "Для векторного поиска использовалась библиотека faiss.</br>\n",
    "Поиск решения велся с помощью faiss.index_factory с параметрами 'IVF1000, Flat' и nprobe=10, для финализации решения использовался faiss.IndexFlatL2. Предварительно проводилась стандартизация и отбор признаков.</br>\n",
    "</br>\n",
    "**Наибольшее улучшение** метрики дала стандартизация данных с помощью StandartScaler, а также исключение 6ти признаков из 72х.\n",
    "Дополнительный прирост дала нормализация векторов по строкам и введение масшабирующих коэффициентов еще для двух признаков.\n",
    "</br></br>\n",
    "**Что еще было испробовано, но не дало результата:**</br>\n",
    "Приведение всех признаков к нормальному распределению с помощью QuantileTransformer</br>\n",
    "Уменьшение размерности методом PCA</br>\n",
    "Обработка признаков методом PCA без снижения размерности с параметром whitening=True</br>\n",
    "Трансформирование колонки 6 и 71 в базе и трейне, их зануление</br>\n",
    "Предсказание через FlatIP</br>\n",
    "Предсказание 50 ближайших соседей через FlatL2 и последующее переранжирование через поиск косинусного сходства (проверялось на 10тыс строк из трейна)</br>"
   ]
  },
  {
   "cell_type": "markdown",
   "id": "9f138e40",
   "metadata": {},
   "source": [
    "## Загрузка необходимых библиотек"
   ]
  },
  {
   "cell_type": "code",
   "execution_count": 2,
   "id": "c28c0b57",
   "metadata": {},
   "outputs": [
    {
     "name": "stdout",
     "output_type": "stream",
     "text": [
      "Collecting faiss-cpu\n",
      "  Downloading faiss_cpu-1.7.4-cp39-cp39-win_amd64.whl (10.8 MB)\n",
      "Installing collected packages: faiss-cpu\n",
      "Successfully installed faiss-cpu-1.7.4\n"
     ]
    }
   ],
   "source": [
    "!pip install faiss-cpu --no-cache"
   ]
  },
  {
   "cell_type": "code",
   "execution_count": 1,
   "id": "e97e2708",
   "metadata": {},
   "outputs": [],
   "source": [
    "import pandas as pd\n",
    "import numpy as np\n",
    "import matplotlib.pyplot as plt\n",
    "import seaborn as sns\n",
    "\n",
    "import pandas_profiling as pp\n",
    "\n",
    "import time\n",
    "from tqdm import tqdm\n",
    "\n",
    "from sklearn.preprocessing import StandardScaler\n",
    "from sklearn.preprocessing import QuantileTransformer\n",
    "from sklearn.preprocessing import normalize\n",
    "\n",
    "import faiss\n",
    "\n",
    "from sklearn.linear_model import LogisticRegression\n",
    "from lightgbm import LGBMClassifier\n",
    "\n",
    "import scipy.stats as stats\n",
    "from sklearn.decomposition import PCA\n",
    "\n",
    "\n",
    "from scipy.spatial.distance import cosine"
   ]
  },
  {
   "cell_type": "markdown",
   "id": "586627fc",
   "metadata": {},
   "source": [
    "## Изучение данных"
   ]
  },
  {
   "cell_type": "markdown",
   "id": "6d811573",
   "metadata": {},
   "source": [
    "Загрузим и изучим данные"
   ]
  },
  {
   "cell_type": "code",
   "execution_count": 2,
   "id": "8acbfb17",
   "metadata": {},
   "outputs": [],
   "source": [
    "#откроем файлы с данными\n",
    "\n",
    "try:\n",
    "    data_base = pd.read_csv('datasets/workshop/base.csv')\n",
    "except FileNotFoundError:\n",
    "    data_base = pd.read_csv('/kaggle/input/samokattechworkshop/base.csv')\n"
   ]
  },
  {
   "cell_type": "code",
   "execution_count": 3,
   "id": "e573a4c5",
   "metadata": {},
   "outputs": [],
   "source": [
    "try:\n",
    "    data_train = pd.read_csv('datasets/workshop/train.csv')\n",
    "except FileNotFoundError:\n",
    "    data_train = pd.read_csv('/kaggle/input/samokattechworkshop/train.csv')"
   ]
  },
  {
   "cell_type": "markdown",
   "id": "c67bebb3",
   "metadata": {},
   "source": [
    "### Общие свойства"
   ]
  },
  {
   "cell_type": "code",
   "execution_count": 4,
   "id": "a663564c",
   "metadata": {},
   "outputs": [
    {
     "name": "stdout",
     "output_type": "stream",
     "text": [
      "Размер датасета (2918139, 73)\n",
      "<class 'pandas.core.frame.DataFrame'>\n",
      "RangeIndex: 2918139 entries, 0 to 2918138\n",
      "Data columns (total 73 columns):\n",
      " #   Column  Dtype  \n",
      "---  ------  -----  \n",
      " 0   Id      object \n",
      " 1   0       float64\n",
      " 2   1       float64\n",
      " 3   2       float64\n",
      " 4   3       float64\n",
      " 5   4       float64\n",
      " 6   5       float64\n",
      " 7   6       float64\n",
      " 8   7       float64\n",
      " 9   8       float64\n",
      " 10  9       float64\n",
      " 11  10      float64\n",
      " 12  11      float64\n",
      " 13  12      float64\n",
      " 14  13      float64\n",
      " 15  14      float64\n",
      " 16  15      float64\n",
      " 17  16      float64\n",
      " 18  17      float64\n",
      " 19  18      float64\n",
      " 20  19      float64\n",
      " 21  20      float64\n",
      " 22  21      float64\n",
      " 23  22      float64\n",
      " 24  23      float64\n",
      " 25  24      float64\n",
      " 26  25      float64\n",
      " 27  26      float64\n",
      " 28  27      float64\n",
      " 29  28      float64\n",
      " 30  29      float64\n",
      " 31  30      float64\n",
      " 32  31      float64\n",
      " 33  32      float64\n",
      " 34  33      float64\n",
      " 35  34      float64\n",
      " 36  35      float64\n",
      " 37  36      float64\n",
      " 38  37      float64\n",
      " 39  38      float64\n",
      " 40  39      float64\n",
      " 41  40      float64\n",
      " 42  41      float64\n",
      " 43  42      float64\n",
      " 44  43      float64\n",
      " 45  44      float64\n",
      " 46  45      float64\n",
      " 47  46      float64\n",
      " 48  47      float64\n",
      " 49  48      float64\n",
      " 50  49      float64\n",
      " 51  50      float64\n",
      " 52  51      float64\n",
      " 53  52      float64\n",
      " 54  53      float64\n",
      " 55  54      float64\n",
      " 56  55      float64\n",
      " 57  56      float64\n",
      " 58  57      float64\n",
      " 59  58      float64\n",
      " 60  59      float64\n",
      " 61  60      float64\n",
      " 62  61      float64\n",
      " 63  62      float64\n",
      " 64  63      float64\n",
      " 65  64      float64\n",
      " 66  65      float64\n",
      " 67  66      float64\n",
      " 68  67      float64\n",
      " 69  68      float64\n",
      " 70  69      float64\n",
      " 71  70      float64\n",
      " 72  71      float64\n",
      "dtypes: float64(72), object(1)\n",
      "memory usage: 1.6+ GB\n"
     ]
    },
    {
     "data": {
      "text/html": [
       "<div>\n",
       "<style scoped>\n",
       "    .dataframe tbody tr th:only-of-type {\n",
       "        vertical-align: middle;\n",
       "    }\n",
       "\n",
       "    .dataframe tbody tr th {\n",
       "        vertical-align: top;\n",
       "    }\n",
       "\n",
       "    .dataframe thead th {\n",
       "        text-align: right;\n",
       "    }\n",
       "</style>\n",
       "<table border=\"1\" class=\"dataframe\">\n",
       "  <thead>\n",
       "    <tr style=\"text-align: right;\">\n",
       "      <th></th>\n",
       "      <th>Id</th>\n",
       "      <th>0</th>\n",
       "      <th>1</th>\n",
       "      <th>2</th>\n",
       "      <th>3</th>\n",
       "      <th>4</th>\n",
       "      <th>5</th>\n",
       "      <th>6</th>\n",
       "      <th>7</th>\n",
       "      <th>8</th>\n",
       "      <th>...</th>\n",
       "      <th>62</th>\n",
       "      <th>63</th>\n",
       "      <th>64</th>\n",
       "      <th>65</th>\n",
       "      <th>66</th>\n",
       "      <th>67</th>\n",
       "      <th>68</th>\n",
       "      <th>69</th>\n",
       "      <th>70</th>\n",
       "      <th>71</th>\n",
       "    </tr>\n",
       "  </thead>\n",
       "  <tbody>\n",
       "    <tr>\n",
       "      <th>0</th>\n",
       "      <td>0-base</td>\n",
       "      <td>-115.083890</td>\n",
       "      <td>11.152912</td>\n",
       "      <td>-64.426760</td>\n",
       "      <td>-118.88089</td>\n",
       "      <td>216.482440</td>\n",
       "      <td>-104.698060</td>\n",
       "      <td>-469.070588</td>\n",
       "      <td>44.348083</td>\n",
       "      <td>120.915344</td>\n",
       "      <td>...</td>\n",
       "      <td>-42.808693</td>\n",
       "      <td>38.800827</td>\n",
       "      <td>-151.76218</td>\n",
       "      <td>-74.389090</td>\n",
       "      <td>63.66634</td>\n",
       "      <td>-4.703861</td>\n",
       "      <td>92.933610</td>\n",
       "      <td>115.269190</td>\n",
       "      <td>-112.756640</td>\n",
       "      <td>-60.830353</td>\n",
       "    </tr>\n",
       "    <tr>\n",
       "      <th>1</th>\n",
       "      <td>1-base</td>\n",
       "      <td>-34.562202</td>\n",
       "      <td>13.332763</td>\n",
       "      <td>-69.787610</td>\n",
       "      <td>-166.53348</td>\n",
       "      <td>57.680607</td>\n",
       "      <td>-86.098370</td>\n",
       "      <td>-85.076666</td>\n",
       "      <td>-35.637436</td>\n",
       "      <td>119.718636</td>\n",
       "      <td>...</td>\n",
       "      <td>-117.767525</td>\n",
       "      <td>41.100000</td>\n",
       "      <td>-157.82940</td>\n",
       "      <td>-94.446806</td>\n",
       "      <td>68.20211</td>\n",
       "      <td>24.346846</td>\n",
       "      <td>179.937930</td>\n",
       "      <td>116.834000</td>\n",
       "      <td>-84.888941</td>\n",
       "      <td>-59.524610</td>\n",
       "    </tr>\n",
       "    <tr>\n",
       "      <th>2</th>\n",
       "      <td>2-base</td>\n",
       "      <td>-54.233746</td>\n",
       "      <td>6.379371</td>\n",
       "      <td>-29.210136</td>\n",
       "      <td>-133.41383</td>\n",
       "      <td>150.895830</td>\n",
       "      <td>-99.435326</td>\n",
       "      <td>52.554795</td>\n",
       "      <td>62.381706</td>\n",
       "      <td>128.951450</td>\n",
       "      <td>...</td>\n",
       "      <td>-76.397800</td>\n",
       "      <td>46.011803</td>\n",
       "      <td>-207.14442</td>\n",
       "      <td>127.325570</td>\n",
       "      <td>65.56618</td>\n",
       "      <td>66.325680</td>\n",
       "      <td>81.073490</td>\n",
       "      <td>116.594154</td>\n",
       "      <td>-1074.464888</td>\n",
       "      <td>-32.527206</td>\n",
       "    </tr>\n",
       "    <tr>\n",
       "      <th>3</th>\n",
       "      <td>3-base</td>\n",
       "      <td>-87.520130</td>\n",
       "      <td>4.037884</td>\n",
       "      <td>-87.803030</td>\n",
       "      <td>-185.06763</td>\n",
       "      <td>76.369540</td>\n",
       "      <td>-58.985165</td>\n",
       "      <td>-383.182845</td>\n",
       "      <td>-33.611237</td>\n",
       "      <td>122.031910</td>\n",
       "      <td>...</td>\n",
       "      <td>-70.647940</td>\n",
       "      <td>-6.358921</td>\n",
       "      <td>-147.20105</td>\n",
       "      <td>-37.692750</td>\n",
       "      <td>66.20289</td>\n",
       "      <td>-20.566910</td>\n",
       "      <td>137.206940</td>\n",
       "      <td>117.474100</td>\n",
       "      <td>-1074.464888</td>\n",
       "      <td>-72.915490</td>\n",
       "    </tr>\n",
       "    <tr>\n",
       "      <th>4</th>\n",
       "      <td>4-base</td>\n",
       "      <td>-72.743850</td>\n",
       "      <td>6.522049</td>\n",
       "      <td>43.671265</td>\n",
       "      <td>-140.60803</td>\n",
       "      <td>5.820023</td>\n",
       "      <td>-112.074080</td>\n",
       "      <td>-397.711282</td>\n",
       "      <td>45.182500</td>\n",
       "      <td>122.167180</td>\n",
       "      <td>...</td>\n",
       "      <td>-57.199104</td>\n",
       "      <td>56.642403</td>\n",
       "      <td>-159.35184</td>\n",
       "      <td>85.944724</td>\n",
       "      <td>66.76632</td>\n",
       "      <td>-2.505783</td>\n",
       "      <td>65.315285</td>\n",
       "      <td>135.051590</td>\n",
       "      <td>-1074.464888</td>\n",
       "      <td>0.319401</td>\n",
       "    </tr>\n",
       "  </tbody>\n",
       "</table>\n",
       "<p>5 rows × 73 columns</p>\n",
       "</div>"
      ],
      "text/plain": [
       "       Id           0          1          2          3           4  \\\n",
       "0  0-base -115.083890  11.152912 -64.426760 -118.88089  216.482440   \n",
       "1  1-base  -34.562202  13.332763 -69.787610 -166.53348   57.680607   \n",
       "2  2-base  -54.233746   6.379371 -29.210136 -133.41383  150.895830   \n",
       "3  3-base  -87.520130   4.037884 -87.803030 -185.06763   76.369540   \n",
       "4  4-base  -72.743850   6.522049  43.671265 -140.60803    5.820023   \n",
       "\n",
       "            5           6          7           8  ...          62         63  \\\n",
       "0 -104.698060 -469.070588  44.348083  120.915344  ...  -42.808693  38.800827   \n",
       "1  -86.098370  -85.076666 -35.637436  119.718636  ... -117.767525  41.100000   \n",
       "2  -99.435326   52.554795  62.381706  128.951450  ...  -76.397800  46.011803   \n",
       "3  -58.985165 -383.182845 -33.611237  122.031910  ...  -70.647940  -6.358921   \n",
       "4 -112.074080 -397.711282  45.182500  122.167180  ...  -57.199104  56.642403   \n",
       "\n",
       "          64          65        66         67          68          69  \\\n",
       "0 -151.76218  -74.389090  63.66634  -4.703861   92.933610  115.269190   \n",
       "1 -157.82940  -94.446806  68.20211  24.346846  179.937930  116.834000   \n",
       "2 -207.14442  127.325570  65.56618  66.325680   81.073490  116.594154   \n",
       "3 -147.20105  -37.692750  66.20289 -20.566910  137.206940  117.474100   \n",
       "4 -159.35184   85.944724  66.76632  -2.505783   65.315285  135.051590   \n",
       "\n",
       "            70         71  \n",
       "0  -112.756640 -60.830353  \n",
       "1   -84.888941 -59.524610  \n",
       "2 -1074.464888 -32.527206  \n",
       "3 -1074.464888 -72.915490  \n",
       "4 -1074.464888   0.319401  \n",
       "\n",
       "[5 rows x 73 columns]"
      ]
     },
     "metadata": {},
     "output_type": "display_data"
    },
    {
     "data": {
      "text/plain": [
       "None"
      ]
     },
     "metadata": {},
     "output_type": "display_data"
    }
   ],
   "source": [
    "print('Размер датасета', data_base.shape)\n",
    "display(data_base.head(), data_base.info())"
   ]
  },
  {
   "cell_type": "code",
   "execution_count": 5,
   "id": "bc9f5322",
   "metadata": {},
   "outputs": [
    {
     "name": "stdout",
     "output_type": "stream",
     "text": [
      "Размер датасета (100000, 74)\n",
      "<class 'pandas.core.frame.DataFrame'>\n",
      "RangeIndex: 100000 entries, 0 to 99999\n",
      "Data columns (total 74 columns):\n",
      " #   Column  Non-Null Count   Dtype  \n",
      "---  ------  --------------   -----  \n",
      " 0   Id      100000 non-null  object \n",
      " 1   0       100000 non-null  float64\n",
      " 2   1       100000 non-null  float64\n",
      " 3   2       100000 non-null  float64\n",
      " 4   3       100000 non-null  float64\n",
      " 5   4       100000 non-null  float64\n",
      " 6   5       100000 non-null  float64\n",
      " 7   6       100000 non-null  float64\n",
      " 8   7       100000 non-null  float64\n",
      " 9   8       100000 non-null  float64\n",
      " 10  9       100000 non-null  float64\n",
      " 11  10      100000 non-null  float64\n",
      " 12  11      100000 non-null  float64\n",
      " 13  12      100000 non-null  float64\n",
      " 14  13      100000 non-null  float64\n",
      " 15  14      100000 non-null  float64\n",
      " 16  15      100000 non-null  float64\n",
      " 17  16      100000 non-null  float64\n",
      " 18  17      100000 non-null  float64\n",
      " 19  18      100000 non-null  float64\n",
      " 20  19      100000 non-null  float64\n",
      " 21  20      100000 non-null  float64\n",
      " 22  21      100000 non-null  float64\n",
      " 23  22      100000 non-null  float64\n",
      " 24  23      100000 non-null  float64\n",
      " 25  24      100000 non-null  float64\n",
      " 26  25      100000 non-null  float64\n",
      " 27  26      100000 non-null  float64\n",
      " 28  27      100000 non-null  float64\n",
      " 29  28      100000 non-null  float64\n",
      " 30  29      100000 non-null  float64\n",
      " 31  30      100000 non-null  float64\n",
      " 32  31      100000 non-null  float64\n",
      " 33  32      100000 non-null  float64\n",
      " 34  33      100000 non-null  float64\n",
      " 35  34      100000 non-null  float64\n",
      " 36  35      100000 non-null  float64\n",
      " 37  36      100000 non-null  float64\n",
      " 38  37      100000 non-null  float64\n",
      " 39  38      100000 non-null  float64\n",
      " 40  39      100000 non-null  float64\n",
      " 41  40      100000 non-null  float64\n",
      " 42  41      100000 non-null  float64\n",
      " 43  42      100000 non-null  float64\n",
      " 44  43      100000 non-null  float64\n",
      " 45  44      100000 non-null  float64\n",
      " 46  45      100000 non-null  float64\n",
      " 47  46      100000 non-null  float64\n",
      " 48  47      100000 non-null  float64\n",
      " 49  48      100000 non-null  float64\n",
      " 50  49      100000 non-null  float64\n",
      " 51  50      100000 non-null  float64\n",
      " 52  51      100000 non-null  float64\n",
      " 53  52      100000 non-null  float64\n",
      " 54  53      100000 non-null  float64\n",
      " 55  54      100000 non-null  float64\n",
      " 56  55      100000 non-null  float64\n",
      " 57  56      100000 non-null  float64\n",
      " 58  57      100000 non-null  float64\n",
      " 59  58      100000 non-null  float64\n",
      " 60  59      100000 non-null  float64\n",
      " 61  60      100000 non-null  float64\n",
      " 62  61      100000 non-null  float64\n",
      " 63  62      100000 non-null  float64\n",
      " 64  63      100000 non-null  float64\n",
      " 65  64      100000 non-null  float64\n",
      " 66  65      100000 non-null  float64\n",
      " 67  66      100000 non-null  float64\n",
      " 68  67      100000 non-null  float64\n",
      " 69  68      100000 non-null  float64\n",
      " 70  69      100000 non-null  float64\n",
      " 71  70      100000 non-null  float64\n",
      " 72  71      100000 non-null  float64\n",
      " 73  Target  100000 non-null  object \n",
      "dtypes: float64(72), object(2)\n",
      "memory usage: 56.5+ MB\n"
     ]
    },
    {
     "data": {
      "text/html": [
       "<div>\n",
       "<style scoped>\n",
       "    .dataframe tbody tr th:only-of-type {\n",
       "        vertical-align: middle;\n",
       "    }\n",
       "\n",
       "    .dataframe tbody tr th {\n",
       "        vertical-align: top;\n",
       "    }\n",
       "\n",
       "    .dataframe thead th {\n",
       "        text-align: right;\n",
       "    }\n",
       "</style>\n",
       "<table border=\"1\" class=\"dataframe\">\n",
       "  <thead>\n",
       "    <tr style=\"text-align: right;\">\n",
       "      <th></th>\n",
       "      <th>Id</th>\n",
       "      <th>0</th>\n",
       "      <th>1</th>\n",
       "      <th>2</th>\n",
       "      <th>3</th>\n",
       "      <th>4</th>\n",
       "      <th>5</th>\n",
       "      <th>6</th>\n",
       "      <th>7</th>\n",
       "      <th>8</th>\n",
       "      <th>...</th>\n",
       "      <th>63</th>\n",
       "      <th>64</th>\n",
       "      <th>65</th>\n",
       "      <th>66</th>\n",
       "      <th>67</th>\n",
       "      <th>68</th>\n",
       "      <th>69</th>\n",
       "      <th>70</th>\n",
       "      <th>71</th>\n",
       "      <th>Target</th>\n",
       "    </tr>\n",
       "  </thead>\n",
       "  <tbody>\n",
       "    <tr>\n",
       "      <th>0</th>\n",
       "      <td>0-query</td>\n",
       "      <td>-53.882748</td>\n",
       "      <td>17.971436</td>\n",
       "      <td>-42.117104</td>\n",
       "      <td>-183.93668</td>\n",
       "      <td>187.517490</td>\n",
       "      <td>-87.144930</td>\n",
       "      <td>-347.360606</td>\n",
       "      <td>38.307602</td>\n",
       "      <td>109.085560</td>\n",
       "      <td>...</td>\n",
       "      <td>70.107360</td>\n",
       "      <td>-155.80257</td>\n",
       "      <td>-101.965943</td>\n",
       "      <td>65.903790</td>\n",
       "      <td>34.457500</td>\n",
       "      <td>62.642094</td>\n",
       "      <td>134.763600</td>\n",
       "      <td>-415.750254</td>\n",
       "      <td>-25.958572</td>\n",
       "      <td>675816-base</td>\n",
       "    </tr>\n",
       "    <tr>\n",
       "      <th>1</th>\n",
       "      <td>1-query</td>\n",
       "      <td>-87.776370</td>\n",
       "      <td>6.806268</td>\n",
       "      <td>-32.054546</td>\n",
       "      <td>-177.26039</td>\n",
       "      <td>120.803330</td>\n",
       "      <td>-83.810590</td>\n",
       "      <td>-94.572749</td>\n",
       "      <td>-78.433090</td>\n",
       "      <td>124.915900</td>\n",
       "      <td>...</td>\n",
       "      <td>4.669178</td>\n",
       "      <td>-151.69771</td>\n",
       "      <td>-1.638704</td>\n",
       "      <td>68.170876</td>\n",
       "      <td>25.096191</td>\n",
       "      <td>89.974976</td>\n",
       "      <td>130.589630</td>\n",
       "      <td>-1035.092211</td>\n",
       "      <td>-51.276833</td>\n",
       "      <td>366656-base</td>\n",
       "    </tr>\n",
       "    <tr>\n",
       "      <th>2</th>\n",
       "      <td>2-query</td>\n",
       "      <td>-49.979565</td>\n",
       "      <td>3.841486</td>\n",
       "      <td>-116.118590</td>\n",
       "      <td>-180.40198</td>\n",
       "      <td>190.128430</td>\n",
       "      <td>-50.837620</td>\n",
       "      <td>26.943937</td>\n",
       "      <td>-30.447489</td>\n",
       "      <td>125.771164</td>\n",
       "      <td>...</td>\n",
       "      <td>78.039764</td>\n",
       "      <td>-169.14620</td>\n",
       "      <td>82.144186</td>\n",
       "      <td>66.008220</td>\n",
       "      <td>18.400496</td>\n",
       "      <td>212.409730</td>\n",
       "      <td>121.931470</td>\n",
       "      <td>-1074.464888</td>\n",
       "      <td>-22.547178</td>\n",
       "      <td>1447819-base</td>\n",
       "    </tr>\n",
       "    <tr>\n",
       "      <th>3</th>\n",
       "      <td>3-query</td>\n",
       "      <td>-47.810562</td>\n",
       "      <td>9.086598</td>\n",
       "      <td>-115.401695</td>\n",
       "      <td>-121.01136</td>\n",
       "      <td>94.652840</td>\n",
       "      <td>-109.255410</td>\n",
       "      <td>-775.150134</td>\n",
       "      <td>79.186520</td>\n",
       "      <td>124.003100</td>\n",
       "      <td>...</td>\n",
       "      <td>44.515266</td>\n",
       "      <td>-145.41675</td>\n",
       "      <td>93.990981</td>\n",
       "      <td>64.131350</td>\n",
       "      <td>106.061920</td>\n",
       "      <td>83.178760</td>\n",
       "      <td>118.277725</td>\n",
       "      <td>-1074.464888</td>\n",
       "      <td>-19.902788</td>\n",
       "      <td>1472602-base</td>\n",
       "    </tr>\n",
       "    <tr>\n",
       "      <th>4</th>\n",
       "      <td>4-query</td>\n",
       "      <td>-79.632126</td>\n",
       "      <td>14.442886</td>\n",
       "      <td>-58.903397</td>\n",
       "      <td>-147.05254</td>\n",
       "      <td>57.127068</td>\n",
       "      <td>-16.239529</td>\n",
       "      <td>-321.317964</td>\n",
       "      <td>45.984676</td>\n",
       "      <td>125.941284</td>\n",
       "      <td>...</td>\n",
       "      <td>45.028910</td>\n",
       "      <td>-196.09207</td>\n",
       "      <td>-117.626337</td>\n",
       "      <td>66.926220</td>\n",
       "      <td>42.456170</td>\n",
       "      <td>77.621765</td>\n",
       "      <td>92.479930</td>\n",
       "      <td>-1074.464888</td>\n",
       "      <td>-21.149351</td>\n",
       "      <td>717819-base</td>\n",
       "    </tr>\n",
       "  </tbody>\n",
       "</table>\n",
       "<p>5 rows × 74 columns</p>\n",
       "</div>"
      ],
      "text/plain": [
       "        Id          0          1           2          3           4  \\\n",
       "0  0-query -53.882748  17.971436  -42.117104 -183.93668  187.517490   \n",
       "1  1-query -87.776370   6.806268  -32.054546 -177.26039  120.803330   \n",
       "2  2-query -49.979565   3.841486 -116.118590 -180.40198  190.128430   \n",
       "3  3-query -47.810562   9.086598 -115.401695 -121.01136   94.652840   \n",
       "4  4-query -79.632126  14.442886  -58.903397 -147.05254   57.127068   \n",
       "\n",
       "            5           6          7           8  ...         63         64  \\\n",
       "0  -87.144930 -347.360606  38.307602  109.085560  ...  70.107360 -155.80257   \n",
       "1  -83.810590  -94.572749 -78.433090  124.915900  ...   4.669178 -151.69771   \n",
       "2  -50.837620   26.943937 -30.447489  125.771164  ...  78.039764 -169.14620   \n",
       "3 -109.255410 -775.150134  79.186520  124.003100  ...  44.515266 -145.41675   \n",
       "4  -16.239529 -321.317964  45.984676  125.941284  ...  45.028910 -196.09207   \n",
       "\n",
       "           65         66          67          68          69           70  \\\n",
       "0 -101.965943  65.903790   34.457500   62.642094  134.763600  -415.750254   \n",
       "1   -1.638704  68.170876   25.096191   89.974976  130.589630 -1035.092211   \n",
       "2   82.144186  66.008220   18.400496  212.409730  121.931470 -1074.464888   \n",
       "3   93.990981  64.131350  106.061920   83.178760  118.277725 -1074.464888   \n",
       "4 -117.626337  66.926220   42.456170   77.621765   92.479930 -1074.464888   \n",
       "\n",
       "          71        Target  \n",
       "0 -25.958572   675816-base  \n",
       "1 -51.276833   366656-base  \n",
       "2 -22.547178  1447819-base  \n",
       "3 -19.902788  1472602-base  \n",
       "4 -21.149351   717819-base  \n",
       "\n",
       "[5 rows x 74 columns]"
      ]
     },
     "metadata": {},
     "output_type": "display_data"
    },
    {
     "data": {
      "text/plain": [
       "None"
      ]
     },
     "metadata": {},
     "output_type": "display_data"
    }
   ],
   "source": [
    "print('Размер датасета', data_train.shape)\n",
    "display(data_train.head(), data_train.info())"
   ]
  },
  {
   "cell_type": "markdown",
   "id": "9ed52666",
   "metadata": {},
   "source": [
    "В базе товаров - почти 3 млн. строк, 72 колонки признаков типа float64 и одна колонка с уникальным Id товара. В связи с размером датасета метод .info() не показывает количество нулевых значений.</br>\n",
    "В тренировочной базе - 100 тыс. векторов без пропущенных значений, колонка с уникальным Id и таргет с Id наиболее близкого товара из базы.</br>\n",
    "</br>\n",
    "Для каждого товара из тренировочной (а потом из тестовой) выборки необходимо предсказать топ-10 наиболее похожих товаров из базы так, чтобы туда вошел товар-таргет."
   ]
  },
  {
   "cell_type": "markdown",
   "id": "77c0be10",
   "metadata": {},
   "source": [
    "Проверка на дубликаты"
   ]
  },
  {
   "cell_type": "code",
   "execution_count": 6,
   "id": "060550a5",
   "metadata": {},
   "outputs": [
    {
     "data": {
      "text/plain": [
       "0"
      ]
     },
     "execution_count": 6,
     "metadata": {},
     "output_type": "execute_result"
    }
   ],
   "source": [
    "data_base.duplicated().sum()"
   ]
  },
  {
   "cell_type": "markdown",
   "id": "07caf4a3",
   "metadata": {},
   "source": [
    "### Визуализация"
   ]
  },
  {
   "cell_type": "markdown",
   "id": "354df250",
   "metadata": {},
   "source": [
    "Для обзора имеющися данных используем библиотеку Pandas Profiling в режиме minimal=True (т.к. датасет очень большой)."
   ]
  },
  {
   "cell_type": "code",
   "execution_count": 7,
   "id": "1ed36d50",
   "metadata": {
    "scrolled": false
   },
   "outputs": [],
   "source": [
    "#pp.ProfileReport(data_base, minimal=True)"
   ]
  },
  {
   "cell_type": "markdown",
   "id": "0b738faf",
   "metadata": {},
   "source": [
    "Результат работы PP выводится в виде интерактивного окна со сводкой и гистограммой по каждой колонке. В GitHub это окно не переносится. </br>\n",
    "Что видим по свойствам векторов: </br>\n",
    "Пропущенных и нулевых значений нет.\n",
    "Все \"признаки\" (за исключением колонок '6', '21', '25', '33', '44', '59', '65', '70'), имеют куполообразное распределение, т.е. как минимум по форме близки к нормальному распределению. Однако средние не центрированы и все распределения имеют разный масштаб."
   ]
  },
  {
   "cell_type": "markdown",
   "id": "34da074f",
   "metadata": {},
   "source": [
    "Выведем несколько графиков."
   ]
  },
  {
   "cell_type": "code",
   "execution_count": 8,
   "id": "25a2e8c4",
   "metadata": {},
   "outputs": [
    {
     "data": {
      "image/png": "[encoded data removed]",
      "text/plain": [
       "<Figure size 720x360 with 1 Axes>"
      ]
     },
     "metadata": {
      "needs_background": "light"
     },
     "output_type": "display_data"
    }
   ],
   "source": [
    "plt.figure(figsize=(10, 5))\n",
    "data_base.iloc[:, 17].hist(bins=100, alpha=0.5, legend=True);\n",
    "data_base.iloc[:, 35].hist(bins=100, alpha=0.5, legend=True);\n",
    "data_base.iloc[:, 58].hist(bins=100, alpha=0.5, legend=True);\n",
    "data_base.iloc[:, 64].hist(bins=100, alpha=0.5, legend=True);\n",
    "plt.title('Some features histograms - base', fontsize=12)\n",
    "plt.show()"
   ]
  },
  {
   "cell_type": "code",
   "execution_count": 9,
   "id": "e8289b3f",
   "metadata": {},
   "outputs": [
    {
     "data": {
      "image/png": "[encoded data removed]",
      "text/plain": [
       "<Figure size 720x360 with 1 Axes>"
      ]
     },
     "metadata": {
      "needs_background": "light"
     },
     "output_type": "display_data"
    }
   ],
   "source": [
    "plt.figure(figsize=(10, 5))\n",
    "data_train.iloc[:, 17].hist(bins=100, alpha=0.5, legend=True);\n",
    "data_train.iloc[:, 35].hist(bins=100, alpha=0.5, legend=True);\n",
    "data_train.iloc[:, 58].hist(bins=100, alpha=0.5, legend=True);\n",
    "data_train.iloc[:, 64].hist(bins=100, alpha=0.5, legend=True);\n",
    "plt.title('Some features histograms', fontsize=12)\n",
    "plt.show()"
   ]
  },
  {
   "cell_type": "markdown",
   "id": "8886e864",
   "metadata": {},
   "source": [
    "Видим, что распределения более-менее похожи, хотя и отличаются. Например в базе у признака 63 есть два \"пика\", т.е. в базе существует группа товаров в каким-то дополнительным свойством. Однако в трейне этого свойства нет. "
   ]
  },
  {
   "cell_type": "markdown",
   "id": "1d2e284a",
   "metadata": {},
   "source": [
    "Выведем также гистограммы некоторых признаков с не-нормальными распределениями."
   ]
  },
  {
   "cell_type": "code",
   "execution_count": 10,
   "id": "14a754e1",
   "metadata": {},
   "outputs": [
    {
     "data": {
      "image/png": "[encoded data removed]",
      "text/plain": [
       "<Figure size 720x360 with 1 Axes>"
      ]
     },
     "metadata": {
      "needs_background": "light"
     },
     "output_type": "display_data"
    }
   ],
   "source": [
    "plt.figure(figsize=(10, 5))\n",
    "data_base.iloc[:, 7].hist(bins=100, alpha=0.5, legend=True);\n",
    "data_base.iloc[:, 60].hist(bins=100, alpha=0.5, legend=True);\n",
    "data_base.iloc[:, 34].hist(bins=100, alpha=0.5, legend=True);\n",
    "data_base.iloc[:, 45].hist(bins=100, alpha=0.5, legend=True);\n",
    "plt.title('Features with non-normal distribution', fontsize=12)\n",
    "plt.show()"
   ]
  },
  {
   "cell_type": "code",
   "execution_count": 11,
   "id": "e4b0a0a5",
   "metadata": {},
   "outputs": [
    {
     "data": {
      "image/png": "[encoded data removed]",
      "text/plain": [
       "<Figure size 720x360 with 1 Axes>"
      ]
     },
     "metadata": {
      "needs_background": "light"
     },
     "output_type": "display_data"
    }
   ],
   "source": [
    "plt.figure(figsize=(10, 5))\n",
    "data_train.iloc[:, 7].hist(bins=100, alpha=0.5, legend=True);\n",
    "data_train.iloc[:, 60].hist(bins=100, alpha=0.5, legend=True);\n",
    "data_train.iloc[:, 34].hist(bins=100, alpha=0.5, legend=True);\n",
    "data_train.iloc[:, 45].hist(bins=100, alpha=0.5, legend=True);\n",
    "plt.title('Features with non-normal distribution', fontsize=12)\n",
    "plt.show()"
   ]
  },
  {
   "cell_type": "markdown",
   "id": "79362a5e",
   "metadata": {},
   "source": [
    "Видимо, что описываемые этими признаками свойства характерны для большого числа товаров и могут создавать перекосы. Для признака 44 - не самая оптимальная для векторного поиска ситуация, когда в трейне есть пик, а в базе этого нет. "
   ]
  },
  {
   "cell_type": "markdown",
   "id": "7ff1a351",
   "metadata": {},
   "source": [
    "Попробуем также проверить взаимную корреляцию признаков. Для этого выберем из базы семпл в 100 тыс. строк и построим heatmap"
   ]
  },
  {
   "cell_type": "code",
   "execution_count": 12,
   "id": "e7b18874",
   "metadata": {},
   "outputs": [],
   "source": [
    "data_base_sample = data_base.sample(n=100000)"
   ]
  },
  {
   "cell_type": "code",
   "execution_count": 13,
   "id": "c5a23d27",
   "metadata": {},
   "outputs": [
    {
     "data": {
      "image/png": "[encoded data removed]",
      "text/plain": [
       "<Figure size 720x360 with 2 Axes>"
      ]
     },
     "metadata": {
      "needs_background": "light"
     },
     "output_type": "display_data"
    }
   ],
   "source": [
    "fig = plt.figure(figsize=(10, 5))\n",
    "sns.heatmap(data_base_sample.corr(), cmap='Pastel2_r')\n",
    "fig.tight_layout()\n",
    "plt.show()"
   ]
  },
  {
   "cell_type": "markdown",
   "id": "bc19bb3c",
   "metadata": {},
   "source": [
    "Не то, чтобы карта признаков выглядит очень разборчиво, но позволяет сделать вывод об отсутствии заметных корреляций между отдельными признаками."
   ]
  },
  {
   "cell_type": "markdown",
   "id": "8e9a9552",
   "metadata": {},
   "source": [
    "## Разделим тренировочную выборку и таргет"
   ]
  },
  {
   "cell_type": "code",
   "execution_count": 14,
   "id": "1653001c",
   "metadata": {},
   "outputs": [],
   "source": [
    "data_train_train = data_train.drop(columns='Target')\n",
    "target = data_train['Target']"
   ]
  },
  {
   "cell_type": "code",
   "execution_count": 15,
   "id": "8c8f2ff3",
   "metadata": {},
   "outputs": [],
   "source": [
    "data_train = None"
   ]
  },
  {
   "cell_type": "markdown",
   "id": "2d7ae9f6",
   "metadata": {},
   "source": [
    "## Стандартизация данных"
   ]
  },
  {
   "cell_type": "markdown",
   "id": "a3ce6b9f",
   "metadata": {},
   "source": [
    "Приведём данные к одинаковому масштабу с помощью Standart Scaler"
   ]
  },
  {
   "cell_type": "code",
   "execution_count": 16,
   "id": "a39dd1ca",
   "metadata": {},
   "outputs": [],
   "source": [
    "standart_scaler = StandardScaler()"
   ]
  },
  {
   "cell_type": "code",
   "execution_count": 17,
   "id": "31015ef9",
   "metadata": {},
   "outputs": [
    {
     "data": {
      "text/plain": [
       "StandardScaler()"
      ]
     },
     "execution_count": 17,
     "metadata": {},
     "output_type": "execute_result"
    }
   ],
   "source": [
    "standart_scaler.fit(data_base.iloc[:, 1:])"
   ]
  },
  {
   "cell_type": "code",
   "execution_count": 18,
   "id": "2e25d786",
   "metadata": {},
   "outputs": [],
   "source": [
    "norm_values = pd.DataFrame(standart_scaler.transform(data_base.iloc[:, 1:]))"
   ]
  },
  {
   "cell_type": "code",
   "execution_count": 19,
   "id": "2f7022ed",
   "metadata": {},
   "outputs": [],
   "source": [
    "data_base_norm = pd.concat((data_base['Id'], norm_values), axis=1)"
   ]
  },
  {
   "cell_type": "markdown",
   "id": "fc56a64c",
   "metadata": {},
   "source": [
    "То же самое для тренировочной выборки"
   ]
  },
  {
   "cell_type": "code",
   "execution_count": 20,
   "id": "fa2cc35a",
   "metadata": {},
   "outputs": [],
   "source": [
    "train_norm_values = pd.DataFrame(standart_scaler.transform(data_train_train.iloc[:, 1:]))"
   ]
  },
  {
   "cell_type": "code",
   "execution_count": 21,
   "id": "e7a845c1",
   "metadata": {},
   "outputs": [],
   "source": [
    "data_train_norm = pd.concat((data_train_train['Id'], train_norm_values), axis=1)"
   ]
  },
  {
   "cell_type": "code",
   "execution_count": 22,
   "id": "eabf0070",
   "metadata": {},
   "outputs": [],
   "source": [
    "norm_values = None\n",
    "train_norm_values = None"
   ]
  },
  {
   "cell_type": "markdown",
   "id": "f83c9232",
   "metadata": {},
   "source": [
    "Убедимся, что размерность поменялась"
   ]
  },
  {
   "cell_type": "code",
   "execution_count": 23,
   "id": "e4f42e73",
   "metadata": {},
   "outputs": [
    {
     "data": {
      "text/html": [
       "<div>\n",
       "<style scoped>\n",
       "    .dataframe tbody tr th:only-of-type {\n",
       "        vertical-align: middle;\n",
       "    }\n",
       "\n",
       "    .dataframe tbody tr th {\n",
       "        vertical-align: top;\n",
       "    }\n",
       "\n",
       "    .dataframe thead th {\n",
       "        text-align: right;\n",
       "    }\n",
       "</style>\n",
       "<table border=\"1\" class=\"dataframe\">\n",
       "  <thead>\n",
       "    <tr style=\"text-align: right;\">\n",
       "      <th></th>\n",
       "      <th>Id</th>\n",
       "      <th>0</th>\n",
       "      <th>1</th>\n",
       "      <th>2</th>\n",
       "      <th>3</th>\n",
       "      <th>4</th>\n",
       "      <th>5</th>\n",
       "      <th>6</th>\n",
       "      <th>7</th>\n",
       "      <th>8</th>\n",
       "      <th>...</th>\n",
       "      <th>62</th>\n",
       "      <th>63</th>\n",
       "      <th>64</th>\n",
       "      <th>65</th>\n",
       "      <th>66</th>\n",
       "      <th>67</th>\n",
       "      <th>68</th>\n",
       "      <th>69</th>\n",
       "      <th>70</th>\n",
       "      <th>71</th>\n",
       "    </tr>\n",
       "  </thead>\n",
       "  <tbody>\n",
       "    <tr>\n",
       "      <th>0</th>\n",
       "      <td>0-base</td>\n",
       "      <td>-1.159216</td>\n",
       "      <td>0.620350</td>\n",
       "      <td>-0.513723</td>\n",
       "      <td>1.398558</td>\n",
       "      <td>2.269043</td>\n",
       "      <td>-1.160385</td>\n",
       "      <td>-0.282884</td>\n",
       "      <td>0.373663</td>\n",
       "      <td>-0.435627</td>\n",
       "      <td>...</td>\n",
       "      <td>1.189049</td>\n",
       "      <td>0.190524</td>\n",
       "      <td>0.073589</td>\n",
       "      <td>-0.894789</td>\n",
       "      <td>-2.262493</td>\n",
       "      <td>-0.510438</td>\n",
       "      <td>0.293004</td>\n",
       "      <td>-0.014051</td>\n",
       "      <td>1.781420</td>\n",
       "      <td>-0.312329</td>\n",
       "    </tr>\n",
       "    <tr>\n",
       "      <th>1</th>\n",
       "      <td>1-base</td>\n",
       "      <td>2.075715</td>\n",
       "      <td>1.060423</td>\n",
       "      <td>-0.652491</td>\n",
       "      <td>-1.002705</td>\n",
       "      <td>-1.157244</td>\n",
       "      <td>-0.500495</td>\n",
       "      <td>1.130652</td>\n",
       "      <td>-0.871900</td>\n",
       "      <td>-0.623903</td>\n",
       "      <td>...</td>\n",
       "      <td>-1.272135</td>\n",
       "      <td>0.270119</td>\n",
       "      <td>-0.073569</td>\n",
       "      <td>-1.097493</td>\n",
       "      <td>0.225102</td>\n",
       "      <td>0.014491</td>\n",
       "      <td>1.711283</td>\n",
       "      <td>0.059848</td>\n",
       "      <td>1.853726</td>\n",
       "      <td>-0.281052</td>\n",
       "    </tr>\n",
       "  </tbody>\n",
       "</table>\n",
       "<p>2 rows × 73 columns</p>\n",
       "</div>"
      ],
      "text/plain": [
       "       Id         0         1         2         3         4         5  \\\n",
       "0  0-base -1.159216  0.620350 -0.513723  1.398558  2.269043 -1.160385   \n",
       "1  1-base  2.075715  1.060423 -0.652491 -1.002705 -1.157244 -0.500495   \n",
       "\n",
       "          6         7         8  ...        62        63        64        65  \\\n",
       "0 -0.282884  0.373663 -0.435627  ...  1.189049  0.190524  0.073589 -0.894789   \n",
       "1  1.130652 -0.871900 -0.623903  ... -1.272135  0.270119 -0.073569 -1.097493   \n",
       "\n",
       "         66        67        68        69        70        71  \n",
       "0 -2.262493 -0.510438  0.293004 -0.014051  1.781420 -0.312329  \n",
       "1  0.225102  0.014491  1.711283  0.059848  1.853726 -0.281052  \n",
       "\n",
       "[2 rows x 73 columns]"
      ]
     },
     "metadata": {},
     "output_type": "display_data"
    },
    {
     "data": {
      "text/html": [
       "<div>\n",
       "<style scoped>\n",
       "    .dataframe tbody tr th:only-of-type {\n",
       "        vertical-align: middle;\n",
       "    }\n",
       "\n",
       "    .dataframe tbody tr th {\n",
       "        vertical-align: top;\n",
       "    }\n",
       "\n",
       "    .dataframe thead th {\n",
       "        text-align: right;\n",
       "    }\n",
       "</style>\n",
       "<table border=\"1\" class=\"dataframe\">\n",
       "  <thead>\n",
       "    <tr style=\"text-align: right;\">\n",
       "      <th></th>\n",
       "      <th>Id</th>\n",
       "      <th>0</th>\n",
       "      <th>1</th>\n",
       "      <th>2</th>\n",
       "      <th>3</th>\n",
       "      <th>4</th>\n",
       "      <th>5</th>\n",
       "      <th>6</th>\n",
       "      <th>7</th>\n",
       "      <th>8</th>\n",
       "      <th>...</th>\n",
       "      <th>62</th>\n",
       "      <th>63</th>\n",
       "      <th>64</th>\n",
       "      <th>65</th>\n",
       "      <th>66</th>\n",
       "      <th>67</th>\n",
       "      <th>68</th>\n",
       "      <th>69</th>\n",
       "      <th>70</th>\n",
       "      <th>71</th>\n",
       "    </tr>\n",
       "  </thead>\n",
       "  <tbody>\n",
       "    <tr>\n",
       "      <th>0</th>\n",
       "      <td>0-query</td>\n",
       "      <td>1.299519</td>\n",
       "      <td>1.996888</td>\n",
       "      <td>0.063774</td>\n",
       "      <td>-1.879671</td>\n",
       "      <td>1.644100</td>\n",
       "      <td>-0.537626</td>\n",
       "      <td>0.165148</td>\n",
       "      <td>0.279598</td>\n",
       "      <td>-2.296794</td>\n",
       "      <td>...</td>\n",
       "      <td>-0.866975</td>\n",
       "      <td>1.274319</td>\n",
       "      <td>-0.024410</td>\n",
       "      <td>-1.173481</td>\n",
       "      <td>-1.035388</td>\n",
       "      <td>0.197184</td>\n",
       "      <td>-0.200786</td>\n",
       "      <td>0.906575</td>\n",
       "      <td>0.995267</td>\n",
       "      <td>0.522963</td>\n",
       "    </tr>\n",
       "    <tr>\n",
       "      <th>1</th>\n",
       "      <td>1-query</td>\n",
       "      <td>-0.062146</td>\n",
       "      <td>-0.257159</td>\n",
       "      <td>0.324249</td>\n",
       "      <td>-1.543245</td>\n",
       "      <td>0.204684</td>\n",
       "      <td>-0.419328</td>\n",
       "      <td>1.095696</td>\n",
       "      <td>-1.538329</td>\n",
       "      <td>0.193777</td>\n",
       "      <td>...</td>\n",
       "      <td>1.254600</td>\n",
       "      <td>-0.991073</td>\n",
       "      <td>0.075152</td>\n",
       "      <td>-0.159574</td>\n",
       "      <td>0.207972</td>\n",
       "      <td>0.028031</td>\n",
       "      <td>0.244774</td>\n",
       "      <td>0.709459</td>\n",
       "      <td>-0.611690</td>\n",
       "      <td>-0.083491</td>\n",
       "    </tr>\n",
       "  </tbody>\n",
       "</table>\n",
       "<p>2 rows × 73 columns</p>\n",
       "</div>"
      ],
      "text/plain": [
       "        Id         0         1         2         3         4         5  \\\n",
       "0  0-query  1.299519  1.996888  0.063774 -1.879671  1.644100 -0.537626   \n",
       "1  1-query -0.062146 -0.257159  0.324249 -1.543245  0.204684 -0.419328   \n",
       "\n",
       "          6         7         8  ...        62        63        64        65  \\\n",
       "0  0.165148  0.279598 -2.296794  ... -0.866975  1.274319 -0.024410 -1.173481   \n",
       "1  1.095696 -1.538329  0.193777  ...  1.254600 -0.991073  0.075152 -0.159574   \n",
       "\n",
       "         66        67        68        69        70        71  \n",
       "0 -1.035388  0.197184 -0.200786  0.906575  0.995267  0.522963  \n",
       "1  0.207972  0.028031  0.244774  0.709459 -0.611690 -0.083491  \n",
       "\n",
       "[2 rows x 73 columns]"
      ]
     },
     "metadata": {},
     "output_type": "display_data"
    }
   ],
   "source": [
    "display(data_base_norm.head(2))\n",
    "display(data_train_norm.head(2))"
   ]
  },
  {
   "cell_type": "markdown",
   "id": "a551ff5b",
   "metadata": {},
   "source": [
    "Также нормализуем каждый вектор с помощью метода normalize (в целом, эта операция дала несущественный прирост метрики и не является определяющей)"
   ]
  },
  {
   "cell_type": "code",
   "execution_count": 24,
   "id": "1cc1282e",
   "metadata": {},
   "outputs": [],
   "source": [
    "data_base_double_norm_vector = normalize(data_base_norm.iloc[:, 1:])"
   ]
  },
  {
   "cell_type": "code",
   "execution_count": 25,
   "id": "af885c4b",
   "metadata": {},
   "outputs": [],
   "source": [
    "data_train_double_norm_vector = normalize(data_train_norm.iloc[:, 1:])"
   ]
  },
  {
   "cell_type": "markdown",
   "id": "04098f4b",
   "metadata": {},
   "source": [
    "## FAISS"
   ]
  },
  {
   "cell_type": "markdown",
   "id": "96593cf6",
   "metadata": {},
   "source": [
    "Для поиска ближайших векторов используем специальную библиотеку FAISS, которая позволяет осуществлять векторый поиск в многомиллионных объемах данных. Для работы с библиотекой нужно определить индекс - т.е. метод, которым faiss будет осуществлять поиск, загрузить в него базу и запустить процедуру поиска."
   ]
  },
  {
   "cell_type": "markdown",
   "id": "b5a87c35",
   "metadata": {},
   "source": [
    "### Faiss index factory"
   ]
  },
  {
   "cell_type": "markdown",
   "id": "6b8fd587",
   "metadata": {},
   "source": [
    "Создадим объект index_factory с параметрами IVF1000, Flat: он определит в базе 1000 кластеров и будет осуществлять поиск сначала по центрам кластеров, а потом, когда будет найден наиболее подходящий, по всем его объектам."
   ]
  },
  {
   "cell_type": "code",
   "execution_count": 26,
   "id": "52ce488f",
   "metadata": {},
   "outputs": [],
   "source": [
    "dim = 72 #число признаков"
   ]
  },
  {
   "cell_type": "code",
   "execution_count": 27,
   "id": "3d010a79",
   "metadata": {},
   "outputs": [],
   "source": [
    "second_index = faiss.index_factory(dim, 'IVF1000,Flat') #создаём объект"
   ]
  },
  {
   "cell_type": "code",
   "execution_count": 28,
   "id": "4762611c",
   "metadata": {},
   "outputs": [],
   "source": [
    "second_index.train(data_base_double_norm_vector) #обучаем, т.е. разбиваем базу на кластеры"
   ]
  },
  {
   "cell_type": "code",
   "execution_count": 29,
   "id": "2e001568",
   "metadata": {},
   "outputs": [],
   "source": [
    "second_index.add(data_base_double_norm_vector) #добавляем вектора"
   ]
  },
  {
   "cell_type": "code",
   "execution_count": 30,
   "id": "7a4958a4",
   "metadata": {},
   "outputs": [
    {
     "name": "stdout",
     "output_type": "stream",
     "text": [
      "2918139\n"
     ]
    }
   ],
   "source": [
    "print(second_index.ntotal)"
   ]
  },
  {
   "cell_type": "markdown",
   "id": "285fbe08",
   "metadata": {},
   "source": [
    "### Определим вспомогательные функции"
   ]
  },
  {
   "cell_type": "markdown",
   "id": "a3f6d399",
   "metadata": {},
   "source": [
    "В качестве результата поиска faiss возвращает индексы векторов в базе и расстояния. Определим функцию, которая сопоставит индексы и Id найденных объектов."
   ]
  },
  {
   "cell_type": "code",
   "execution_count": 29,
   "id": "d11f8b25",
   "metadata": {},
   "outputs": [],
   "source": [
    "def take_base_id(indexes):\n",
    "    indexes_base = []\n",
    "    for index_line in indexes:\n",
    "        indexes_base.append(data_base.iloc[index_line, 0].to_list())\n",
    "    \n",
    "    return(indexes_base)"
   ]
  },
  {
   "cell_type": "markdown",
   "id": "42934708",
   "metadata": {},
   "source": [
    "А также функцию, которая рассчитает recall@10"
   ]
  },
  {
   "cell_type": "code",
   "execution_count": 30,
   "id": "21546a0d",
   "metadata": {},
   "outputs": [],
   "source": [
    "def recall_k(target, predict):\n",
    "    #wrong_indexes = []\n",
    "    \n",
    "    in_list = 0\n",
    "    total_len = len(predict) \n",
    "    for i in range(total_len):\n",
    "        if target[i] in predict[i]:\n",
    "            in_list +=1\n",
    "        #else:\n",
    "            #wrong_indexes.append(data_train_norm.iloc[i, 0])\n",
    "        \n",
    "    return in_list/total_len    "
   ]
  },
  {
   "cell_type": "markdown",
   "id": "a591cc5f",
   "metadata": {},
   "source": [
    "### Поиск ближайших соседей"
   ]
  },
  {
   "cell_type": "markdown",
   "id": "a0b6abac",
   "metadata": {},
   "source": [
    "У объекта Faiss index_factory есть параметр nprobe, который определяет число кластеров, по которым будет вестись поиск. Чем больше кластеров, тем точнее результат и медленнее работа алгоритма.</br>"
   ]
  },
  {
   "cell_type": "code",
   "execution_count": 33,
   "id": "6b12b8b9",
   "metadata": {},
   "outputs": [
    {
     "name": "stdout",
     "output_type": "stream",
     "text": [
      "1 0.53895\n",
      "3 0.63398\n",
      "5 0.655\n",
      "7 0.66485\n",
      "9 0.67096\n",
      "11 0.67499\n",
      "13 0.67754\n",
      "15 0.67936\n",
      "17 0.68113\n",
      "19 0.68264\n"
     ]
    }
   ],
   "source": [
    "nprobes_variation = {\"nprobes\": [], \"recall\": []}\n",
    "\n",
    "for nprobe in range(1, 21, 2):\n",
    "    \n",
    "    second_index.nprobe = nprobe\n",
    "    _, indexes = second_index.search(data_train_double_norm_vector, 10)\n",
    "    indexes_base = take_base_id(indexes)\n",
    "    nprobes_variation['nprobes'].append(nprobe)\n",
    "    nprobes_variation['recall'].append(recall_k(target, indexes_base))\n",
    "    \n",
    "    print(nprobe, recall_k(target, indexes_base))"
   ]
  },
  {
   "cell_type": "code",
   "execution_count": 34,
   "id": "12f2ab40",
   "metadata": {},
   "outputs": [
    {
     "data": {
      "image/png": "[encoded data removed]",
      "text/plain": [
       "<Figure size 720x360 with 1 Axes>"
      ]
     },
     "metadata": {
      "needs_background": "light"
     },
     "output_type": "display_data"
    }
   ],
   "source": [
    "plt.figure(figsize=(10, 5))\n",
    "plt.title(\"Nprobe vs recall@10\")\n",
    "plt.plot(nprobes_variation['nprobes'], nprobes_variation['recall'], linewidth=2)\n",
    "plt.xlabel(\"nprobes\")\n",
    "plt.ylabel(\"recall@10\")\n",
    "plt.show()"
   ]
  },
  {
   "cell_type": "markdown",
   "id": "6ec45da8",
   "metadata": {},
   "source": [
    "График начинает выходить на насыщение примерно на nprobe=9-10, поэтому в дальнейших расчетах зафиксируем цифру 10."
   ]
  },
  {
   "cell_type": "markdown",
   "id": "9f8e50df",
   "metadata": {},
   "source": [
    "## Изучим значимость признаков для правильного ответа"
   ]
  },
  {
   "cell_type": "markdown",
   "id": "26e95cf7",
   "metadata": {},
   "source": [
    "В расчётах используется евклидова метрика (корень из суммы квадратов расстояний по каждой координате).</br>\n",
    "Чтобы определить, каким образом каждый признак влияет на итоговый результат, обучим классификатор, в который будем подавать \n",
    "суммы квадратов для пары query-вектор - предсказанный base-вектор </br>. Target = 1, если пара совпала и 0, если нет.</br>"
   ]
  },
  {
   "cell_type": "code",
   "execution_count": 35,
   "id": "59112bdd",
   "metadata": {},
   "outputs": [],
   "source": [
    "indexes_df_sample = pd.DataFrame(indexes).reset_index()"
   ]
  },
  {
   "cell_type": "code",
   "execution_count": 36,
   "id": "5dec34c8",
   "metadata": {},
   "outputs": [],
   "source": [
    "my_vectors = []\n",
    "my_targets = []"
   ]
  },
  {
   "cell_type": "markdown",
   "id": "119efed6",
   "metadata": {},
   "source": [
    "Создаем признаки: по 10 предсказаний для каждого query вектора, т.е. 1млн строк."
   ]
  },
  {
   "cell_type": "code",
   "execution_count": 37,
   "id": "291f5a01",
   "metadata": {},
   "outputs": [
    {
     "name": "stderr",
     "output_type": "stream",
     "text": [
      "100%|████████████████████████████████████████████████████████████████████████| 100000/100000 [01:33<00:00, 1065.08it/s]\n"
     ]
    }
   ],
   "source": [
    "for i in tqdm(range(len(indexes_df_sample))):\n",
    "    take_target_vector = data_train_double_norm_vector[indexes_df_sample.iloc[i, 0]]\n",
    "    take_top10 = indexes_df_sample.iloc[i, 1:]\n",
    "    for base_number in take_top10:\n",
    "        take_base_vector = data_base_double_norm_vector[base_number]\n",
    "        take_base_ids = data_base_norm.iloc[base_number, 0]\n",
    "        vector_diff = (take_target_vector - take_base_vector)**2\n",
    "        take_target_value = target[indexes_df_sample.iloc[i, 0]]\n",
    "        #take_top10_list = indexes_base[indexes_df_sample.iloc[i, 0]]\n",
    "        my_vectors.append(vector_diff)\n",
    "        #print(take_target_value, take_base_id)\n",
    "        if take_target_value == take_base_ids:\n",
    "            my_targets.append(1)\n",
    "        else:\n",
    "            my_targets.append(0)"
   ]
  },
  {
   "cell_type": "markdown",
   "id": "563419a3",
   "metadata": {},
   "source": [
    "Число правильных ответов в нашем датасете:"
   ]
  },
  {
   "cell_type": "code",
   "execution_count": 38,
   "id": "7501d859",
   "metadata": {},
   "outputs": [
    {
     "data": {
      "text/plain": [
       "68264.0"
      ]
     },
     "execution_count": 38,
     "metadata": {},
     "output_type": "execute_result"
    }
   ],
   "source": [
    "sum(my_targets)/len(my_targets)*1000000"
   ]
  },
  {
   "cell_type": "code",
   "execution_count": 39,
   "id": "c2a17909",
   "metadata": {},
   "outputs": [],
   "source": [
    "lr = LogisticRegression()"
   ]
  },
  {
   "cell_type": "code",
   "execution_count": 40,
   "id": "c8a171a4",
   "metadata": {},
   "outputs": [
    {
     "name": "stderr",
     "output_type": "stream",
     "text": [
      "C:\\Users\\trety\\anaconda3\\lib\\site-packages\\sklearn\\linear_model\\_logistic.py:763: ConvergenceWarning: lbfgs failed to converge (status=1):\n",
      "STOP: TOTAL NO. of ITERATIONS REACHED LIMIT.\n",
      "\n",
      "Increase the number of iterations (max_iter) or scale the data as shown in:\n",
      "    https://scikit-learn.org/stable/modules/preprocessing.html\n",
      "Please also refer to the documentation for alternative solver options:\n",
      "    https://scikit-learn.org/stable/modules/linear_model.html#logistic-regression\n",
      "  n_iter_i = _check_optimize_result(\n"
     ]
    },
    {
     "data": {
      "text/plain": [
       "LogisticRegression()"
      ]
     },
     "execution_count": 40,
     "metadata": {},
     "output_type": "execute_result"
    }
   ],
   "source": [
    "lr.fit(my_vectors, my_targets)"
   ]
  },
  {
   "cell_type": "code",
   "execution_count": 41,
   "id": "f2fd2233",
   "metadata": {},
   "outputs": [],
   "source": [
    "weights = lr.coef_.T"
   ]
  },
  {
   "cell_type": "code",
   "execution_count": 36,
   "id": "eea8a807",
   "metadata": {},
   "outputs": [],
   "source": [
    "def features_importances_plot(weights):\n",
    "    feature_importans = pd.Series(weights).sort_values(ascending=False)\n",
    "\n",
    "    plt.figure(figsize=(16, 7))\n",
    "    sns.set(style=\"whitegrid\")\n",
    "    sns.barplot(x=feature_importans.index, y=feature_importans);\n",
    "    plt.title('Значимость признаков', fontsize=12)\n",
    "    plt.xticks(rotation = 55)\n",
    "    plt.show()"
   ]
  },
  {
   "cell_type": "code",
   "execution_count": 43,
   "id": "1042864c",
   "metadata": {},
   "outputs": [
    {
     "data": {
      "image/png": "[encoded data removed]",
      "text/plain": [
       "<Figure size 1152x504 with 1 Axes>"
      ]
     },
     "metadata": {
      "needs_background": "light"
     },
     "output_type": "display_data"
    }
   ],
   "source": [
    "features_importances_plot(weights[:, 0])"
   ]
  },
  {
   "cell_type": "markdown",
   "id": "51600b26",
   "metadata": {},
   "source": [
    "Видим, что из 8ми не-нормально распределенных признаков 6 имеют вклад, обратный по знаку всем остальным. Попробуем удалить их и посмотреть на результат."
   ]
  },
  {
   "cell_type": "markdown",
   "id": "a209b3f6",
   "metadata": {},
   "source": [
    "## Векторный поиск на сокращенном датасете"
   ]
  },
  {
   "cell_type": "markdown",
   "id": "b07d9054",
   "metadata": {},
   "source": [
    "Удалим колонки '21', '25', '33', '44', '59', '65' из датасета и повторно нормализуем."
   ]
  },
  {
   "cell_type": "code",
   "execution_count": 24,
   "id": "ce38a801",
   "metadata": {},
   "outputs": [],
   "source": [
    "data_base_norm = data_base_norm.drop(columns = [21, 25, 33, 44, 59, 65])\n",
    "data_train_norm = data_train_norm.drop(columns = [21, 25, 33, 44, 59, 65])"
   ]
  },
  {
   "cell_type": "code",
   "execution_count": 25,
   "id": "871a25f7",
   "metadata": {},
   "outputs": [],
   "source": [
    "data_base_double_norm_vector = normalize(data_base_norm.iloc[:, 1:])"
   ]
  },
  {
   "cell_type": "code",
   "execution_count": 26,
   "id": "abc1c237",
   "metadata": {},
   "outputs": [],
   "source": [
    "data_train_double_norm_vector = normalize(data_train_norm.iloc[:, 1:])"
   ]
  },
  {
   "cell_type": "markdown",
   "id": "35457611",
   "metadata": {},
   "source": [
    "Векторный поиск с nprobe= 10"
   ]
  },
  {
   "cell_type": "code",
   "execution_count": 27,
   "id": "748b3349",
   "metadata": {},
   "outputs": [],
   "source": [
    "dim=66\n",
    "second_index = faiss.index_factory(dim, 'IVF1000,Flat') #создаём объект\n",
    "second_index.train(data_base_double_norm_vector) #обучаем, т.е. разбиваем базу на кластеры\n",
    "second_index.add(data_base_double_norm_vector) #добавляем вектора"
   ]
  },
  {
   "cell_type": "code",
   "execution_count": 31,
   "id": "4d93e660",
   "metadata": {},
   "outputs": [
    {
     "data": {
      "text/plain": [
       "0.72785"
      ]
     },
     "execution_count": 31,
     "metadata": {},
     "output_type": "execute_result"
    }
   ],
   "source": [
    "second_index.nprobe = 10\n",
    "\n",
    "_, indexes = second_index.search(data_train_double_norm_vector, 10)\n",
    "indexes_base = take_base_id(indexes)\n",
    "\n",
    "recall_k(target, indexes_base)"
   ]
  },
  {
   "cell_type": "markdown",
   "id": "884fb705",
   "metadata": {},
   "source": [
    "Максимальный результат на полном датасете в предыдущей итерации получился 0.68264.</br>\n",
    "Посмотрим на значимость признаков еще раз:"
   ]
  },
  {
   "cell_type": "code",
   "execution_count": 32,
   "id": "32f8c662",
   "metadata": {},
   "outputs": [],
   "source": [
    "indexes_df_sample = pd.DataFrame(indexes).reset_index()"
   ]
  },
  {
   "cell_type": "code",
   "execution_count": 33,
   "id": "5e0bbef1",
   "metadata": {},
   "outputs": [],
   "source": [
    "my_vectors = []\n",
    "my_targets = []"
   ]
  },
  {
   "cell_type": "code",
   "execution_count": 34,
   "id": "054048ae",
   "metadata": {},
   "outputs": [
    {
     "name": "stderr",
     "output_type": "stream",
     "text": [
      "100%|████████████████████████████████████████████████████████████████████████| 100000/100000 [01:30<00:00, 1107.30it/s]\n"
     ]
    }
   ],
   "source": [
    "for i in tqdm(range(len(indexes_df_sample))):\n",
    "    take_target_vector = data_train_double_norm_vector[indexes_df_sample.iloc[i, 0]]\n",
    "    take_top10 = indexes_df_sample.iloc[i, 1:]\n",
    "    for base_number in take_top10:\n",
    "        take_base_vector = data_base_double_norm_vector[base_number]\n",
    "        take_base_ids = data_base_norm.iloc[base_number, 0]\n",
    "        vector_diff = (take_target_vector - take_base_vector)**2\n",
    "        take_target_value = target[indexes_df_sample.iloc[i, 0]]\n",
    "        #take_top10_list = indexes_base[indexes_df_sample.iloc[i, 0]]\n",
    "        my_vectors.append(vector_diff)\n",
    "        #print(take_target_value, take_base_id)\n",
    "        if take_target_value == take_base_ids:\n",
    "            my_targets.append(1)\n",
    "        else:\n",
    "            my_targets.append(0)"
   ]
  },
  {
   "cell_type": "code",
   "execution_count": 37,
   "id": "be871f0a",
   "metadata": {},
   "outputs": [
    {
     "data": {
      "image/png": "[encoded data removed]",
      "text/plain": [
       "<Figure size 1152x504 with 1 Axes>"
      ]
     },
     "metadata": {
      "needs_background": "light"
     },
     "output_type": "display_data"
    }
   ],
   "source": [
    "lr = LogisticRegression()\n",
    "lr.fit(my_vectors, my_targets)\n",
    "\n",
    "weights = lr.coef_.T\n",
    "features_importances_plot(weights[:, 0])"
   ]
  },
  {
   "cell_type": "markdown",
   "id": "54885091",
   "metadata": {},
   "source": [
    "В целом карта значимости признаков, полученая на лог регрессии довольно ровная. Попробуем получить карту признаков с помощью градентного бустинга."
   ]
  },
  {
   "cell_type": "code",
   "execution_count": 38,
   "id": "0f321380",
   "metadata": {},
   "outputs": [
    {
     "data": {
      "image/png": "[encoded data removed]",
      "text/plain": [
       "<Figure size 1152x504 with 1 Axes>"
      ]
     },
     "metadata": {},
     "output_type": "display_data"
    }
   ],
   "source": [
    "lgbm = LGBMClassifier()\n",
    "lgbm.fit(my_vectors, my_targets)\n",
    "\n",
    "weights = lgbm.feature_importances_.T\n",
    "features_importances_plot(weights)"
   ]
  },
  {
   "cell_type": "markdown",
   "id": "0c20bd5c",
   "metadata": {},
   "source": [
    "А вот кэтбуст дает другой результат - наибольшую значимость имеют два оставшихся в датасете признака с не-нормальным распределением."
   ]
  },
  {
   "cell_type": "code",
   "execution_count": 51,
   "id": "3754b9ac",
   "metadata": {},
   "outputs": [
    {
     "data": {
      "image/png": "[encoded data removed]",
      "text/plain": [
       "<Figure size 720x360 with 1 Axes>"
      ]
     },
     "metadata": {},
     "output_type": "display_data"
    }
   ],
   "source": [
    "plt.figure(figsize=(10, 5))\n",
    "data_base_norm.iloc[:, 7].hist(bins=100, alpha=0.5, legend=True);\n",
    "data_base_norm.iloc[:, 65].hist(bins=100, alpha=0.5, legend=True);\n",
    "plt.title('Features with non-normal distribution', fontsize=12)\n",
    "plt.show()"
   ]
  },
  {
   "cell_type": "code",
   "execution_count": 43,
   "id": "8b7141d9",
   "metadata": {},
   "outputs": [
    {
     "data": {
      "image/png": "[encoded data removed]",
      "text/plain": [
       "<Figure size 720x360 with 1 Axes>"
      ]
     },
     "metadata": {},
     "output_type": "display_data"
    }
   ],
   "source": [
    "plt.figure(figsize=(10, 5))\n",
    "data_train_norm.iloc[:, 7].hist(bins=100, alpha=0.5, legend=True);\n",
    "data_train_norm.iloc[:, 65].hist(bins=100, alpha=0.5, legend=True);\n",
    "plt.title('Features with non-normal distribution', fontsize=12)\n",
    "plt.show()"
   ]
  },
  {
   "cell_type": "markdown",
   "id": "7b07d797",
   "metadata": {},
   "source": [
    "В процессе изучения этих признаков и из влияния на результаты оказалось, что:\n",
    "- в правильно заматченных векторах трейна доля пиковых значений из столбца 6 выше, чем в среднем по датасету, а в неправильно определенных - наоборот ниже\n",
    "- для колонки 71 наоборот - в неправильно заматченных query-векторах доля пиковых значений выше, чем в тех, для которых матчи были найдены верно.\n",
    "\n",
    "Была предпринята попытка преобразовать колонки в трейн-датасете, занулить их, привести к нормальному распределению, но это не дало результата. В итоге был введен эмпирически полученный масштабирующий коэффициент 0,8."
   ]
  },
  {
   "cell_type": "code",
   "execution_count": 52,
   "id": "8bc54b25",
   "metadata": {},
   "outputs": [],
   "source": [
    "weights_norm = np.ones(66)"
   ]
  },
  {
   "cell_type": "code",
   "execution_count": 53,
   "id": "b7661b76",
   "metadata": {},
   "outputs": [],
   "source": [
    "weights_norm[6] = 0.8\n",
    "weights_norm[64] = 0.8"
   ]
  },
  {
   "cell_type": "code",
   "execution_count": 54,
   "id": "fa4027c5",
   "metadata": {},
   "outputs": [],
   "source": [
    "data_base_double_norm_vector_w = data_base_double_norm_vector*weights_norm\n",
    "data_train_double_norm_vector_w = data_train_double_norm_vector*weights_norm"
   ]
  },
  {
   "cell_type": "markdown",
   "id": "e0add13f",
   "metadata": {},
   "source": [
    "Сделаем векторный поиск еще раз:"
   ]
  },
  {
   "cell_type": "code",
   "execution_count": 57,
   "id": "adfb6b68",
   "metadata": {},
   "outputs": [],
   "source": [
    "dim=66\n",
    "second_index = faiss.index_factory(dim, 'IVF1000,Flat') #создаём объект\n",
    "second_index.train(data_base_double_norm_vector_w) #обучаем, т.е. разбиваем базу на кластеры\n",
    "second_index.add(data_base_double_norm_vector_w) #добавляем вектора"
   ]
  },
  {
   "cell_type": "code",
   "execution_count": 58,
   "id": "9d6a8dab",
   "metadata": {},
   "outputs": [
    {
     "data": {
      "text/plain": [
       "0.72809"
      ]
     },
     "execution_count": 58,
     "metadata": {},
     "output_type": "execute_result"
    }
   ],
   "source": [
    "second_index.nprobe = 10\n",
    "\n",
    "_, indexes = second_index.search(data_train_double_norm_vector_w, 10)\n",
    "indexes_base = take_base_id(indexes)\n",
    "\n",
    "recall_k(target, indexes_base)"
   ]
  },
  {
   "cell_type": "markdown",
   "id": "2c726673",
   "metadata": {},
   "source": [
    "Прирост по сравнению с последней метрикой 0.72785 небольшой, но есть. </br>\n",
    "К сожалению, не зная истинной природы признаков 6 и 71, довольно сложно делать вывод о том, насколько устойчивым будет полученное решение. В реальной задаче, вероятно, скор можно было бы улучшить, совершенствуя методику обработки этих признаков при получении векторов query."
   ]
  },
  {
   "cell_type": "markdown",
   "id": "4f3e7a20",
   "metadata": {},
   "source": [
    "## FAISS - 2"
   ]
  },
  {
   "cell_type": "markdown",
   "id": "365693b8",
   "metadata": {},
   "source": [
    "Прогоним преобразованные данные через полный перебор FlatL2."
   ]
  },
  {
   "cell_type": "code",
   "execution_count": 59,
   "id": "81e8314b",
   "metadata": {},
   "outputs": [],
   "source": [
    "my_index = faiss.IndexFlatL2(dim)"
   ]
  },
  {
   "cell_type": "code",
   "execution_count": 60,
   "id": "f7716d36",
   "metadata": {},
   "outputs": [],
   "source": [
    "my_index.add(data_base_double_norm_vector_w)"
   ]
  },
  {
   "cell_type": "code",
   "execution_count": 61,
   "id": "7e3e1b73",
   "metadata": {},
   "outputs": [
    {
     "name": "stdout",
     "output_type": "stream",
     "text": [
      "2918139\n"
     ]
    }
   ],
   "source": [
    "print(my_index.ntotal)"
   ]
  },
  {
   "cell_type": "code",
   "execution_count": 62,
   "id": "110991f7",
   "metadata": {},
   "outputs": [],
   "source": [
    "_, indexes = my_index.search(data_train_double_norm_vector_w, 10)"
   ]
  },
  {
   "cell_type": "code",
   "execution_count": 63,
   "id": "40900133",
   "metadata": {},
   "outputs": [],
   "source": [
    "indexes_base = take_base_id(indexes)"
   ]
  },
  {
   "cell_type": "code",
   "execution_count": 64,
   "id": "cd592243",
   "metadata": {},
   "outputs": [
    {
     "data": {
      "text/plain": [
       "0.74836"
      ]
     },
     "execution_count": 64,
     "metadata": {},
     "output_type": "execute_result"
    }
   ],
   "source": [
    "recall_k(target, indexes_base)"
   ]
  },
  {
   "cell_type": "markdown",
   "id": "7b064cb6",
   "metadata": {},
   "source": [
    "Поскольку прямой перебор даёт чуть более точный результат, итоговая метрика на трейне также получилась выше."
   ]
  },
  {
   "cell_type": "markdown",
   "id": "2806660d",
   "metadata": {},
   "source": [
    "## Test predictions"
   ]
  },
  {
   "cell_type": "code",
   "execution_count": 68,
   "id": "0d0e8f43",
   "metadata": {},
   "outputs": [],
   "source": [
    "try:\n",
    "    data_test = pd.read_csv('datasets/workshop/test.csv', index_col=0)\n",
    "except FileNotFoundError:\n",
    "    data_test = pd.read_csv('/kaggle/input/samokattechworkshop/test.csv')"
   ]
  },
  {
   "cell_type": "code",
   "execution_count": 71,
   "id": "2453e834",
   "metadata": {},
   "outputs": [],
   "source": [
    "data_test_norm = pd.DataFrame(standart_scaler.transform(data_test))"
   ]
  },
  {
   "cell_type": "code",
   "execution_count": 72,
   "id": "32bbaaaf",
   "metadata": {},
   "outputs": [],
   "source": [
    "data_test_norm = data_test_norm.drop(columns = [21, 25, 33, 44, 59, 65])"
   ]
  },
  {
   "cell_type": "code",
   "execution_count": 73,
   "id": "ae99048e",
   "metadata": {},
   "outputs": [],
   "source": [
    "test_double_norm_vector = normalize(data_test_norm)"
   ]
  },
  {
   "cell_type": "code",
   "execution_count": 74,
   "id": "50444757",
   "metadata": {},
   "outputs": [],
   "source": [
    "_, test_indexes = my_index.search(test_double_norm_vector, 10)"
   ]
  },
  {
   "cell_type": "code",
   "execution_count": 75,
   "id": "33fc52c1",
   "metadata": {},
   "outputs": [],
   "source": [
    "test_base_indexes = take_base_id(test_indexes)"
   ]
  },
  {
   "cell_type": "code",
   "execution_count": 76,
   "id": "11f24a8e",
   "metadata": {},
   "outputs": [],
   "source": [
    "data_test['Predicted'] = test_base_indexes\n",
    "data_test['Predicted'] = data_test['Predicted'].apply(' '.join)"
   ]
  },
  {
   "cell_type": "code",
   "execution_count": 77,
   "id": "2dfcc071",
   "metadata": {},
   "outputs": [],
   "source": [
    "data_test['Predicted'].to_frame().to_csv('faiss_flat2l_scaled_normalized_without_6_columns_weights08.csv')"
   ]
  },
  {
   "cell_type": "code",
   "execution_count": null,
   "id": "83a4ede3",
   "metadata": {},
   "outputs": [],
   "source": []
  }
 ],
 "metadata": {
  "kernelspec": {
   "display_name": "Python 3 (ipykernel)",
   "language": "python",
   "name": "python3"
  },
  "language_info": {
   "codemirror_mode": {
    "name": "ipython",
    "version": 3
   },
   "file_extension": ".py",
   "mimetype": "text/x-python",
   "name": "python",
   "nbconvert_exporter": "python",
   "pygments_lexer": "ipython3",
   "version": "3.9.7"
  },
  "toc": {
   "base_numbering": 1,
   "nav_menu": {},
   "number_sections": true,
   "sideBar": true,
   "skip_h1_title": true,
   "title_cell": "Table of Contents",
   "title_sidebar": "Contents",
   "toc_cell": false,
   "toc_position": {
    "height": "calc(100% - 180px)",
    "left": "10px",
    "top": "150px",
    "width": "384px"
   },
   "toc_section_display": true,
   "toc_window_display": true
  }
 },
 "nbformat": 4,
 "nbformat_minor": 5
}
